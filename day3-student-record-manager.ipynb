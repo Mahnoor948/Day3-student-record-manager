{
 "cells": [
  {
   "cell_type": "code",
   "execution_count": 1,
   "id": "69fc411e-bce8-472b-8d61-86f3c793ca9d",
   "metadata": {},
   "outputs": [
    {
     "name": "stdout",
     "output_type": "stream",
     "text": [
      "\n",
      " MENU\n",
      "1. Add Student\n",
      "2. View All Students\n",
      "3. Get Top Student\n",
      "4. Filter Students by Minimum Grade\n",
      "5. View Class Report\n",
      "6. Exit\n"
     ]
    },
    {
     "name": "stdin",
     "output_type": "stream",
     "text": [
      "Enter your choice (1-6):  1\n",
      "Enter student record (Name, Grade):  Mahnoor,100\n"
     ]
    },
    {
     "name": "stdout",
     "output_type": "stream",
     "text": [
      " Student 'Mahnoor' added successfully.\n",
      "\n",
      " MENU\n",
      "1. Add Student\n",
      "2. View All Students\n",
      "3. Get Top Student\n",
      "4. Filter Students by Minimum Grade\n",
      "5. View Class Report\n",
      "6. Exit\n"
     ]
    },
    {
     "name": "stdin",
     "output_type": "stream",
     "text": [
      "Enter your choice (1-6):  1\n",
      "Enter student record (Name, Grade):  Nimra,50\n"
     ]
    },
    {
     "name": "stdout",
     "output_type": "stream",
     "text": [
      " Student 'Nimra' added successfully.\n",
      "\n",
      " MENU\n",
      "1. Add Student\n",
      "2. View All Students\n",
      "3. Get Top Student\n",
      "4. Filter Students by Minimum Grade\n",
      "5. View Class Report\n",
      "6. Exit\n"
     ]
    },
    {
     "name": "stdin",
     "output_type": "stream",
     "text": [
      "Enter your choice (1-6):  2\n"
     ]
    },
    {
     "name": "stdout",
     "output_type": "stream",
     "text": [
      " All Students:\n",
      "- Mahnoor: 100\n",
      "- Nimra: 50\n",
      "\n",
      " MENU\n",
      "1. Add Student\n",
      "2. View All Students\n",
      "3. Get Top Student\n",
      "4. Filter Students by Minimum Grade\n",
      "5. View Class Report\n",
      "6. Exit\n"
     ]
    },
    {
     "name": "stdin",
     "output_type": "stream",
     "text": [
      "Enter your choice (1-6):  3\n"
     ]
    },
    {
     "name": "stdout",
     "output_type": "stream",
     "text": [
      " Top Student: Mahnoor with grade 100\n",
      "\n",
      " MENU\n",
      "1. Add Student\n",
      "2. View All Students\n",
      "3. Get Top Student\n",
      "4. Filter Students by Minimum Grade\n",
      "5. View Class Report\n",
      "6. Exit\n"
     ]
    },
    {
     "name": "stdin",
     "output_type": "stream",
     "text": [
      "Enter your choice (1-6):  4\n",
      "Enter minimum grade:  70\n"
     ]
    },
    {
     "name": "stdout",
     "output_type": "stream",
     "text": [
      " Students with grade >= 70:\n",
      "- Mahnoor: 100\n",
      "\n",
      " MENU\n",
      "1. Add Student\n",
      "2. View All Students\n",
      "3. Get Top Student\n",
      "4. Filter Students by Minimum Grade\n",
      "5. View Class Report\n",
      "6. Exit\n"
     ]
    },
    {
     "name": "stdin",
     "output_type": "stream",
     "text": [
      "Enter your choice (1-6):  5\n"
     ]
    },
    {
     "name": "stdout",
     "output_type": "stream",
     "text": [
      "\n",
      " CLASS REPORT\n",
      "- Average Score: 75.0\n",
      "- Total Students: 2\n",
      "- Students above average:\n",
      "  • Mahnoor: 100\n",
      "\n",
      " MENU\n",
      "1. Add Student\n",
      "2. View All Students\n",
      "3. Get Top Student\n",
      "4. Filter Students by Minimum Grade\n",
      "5. View Class Report\n",
      "6. Exit\n"
     ]
    },
    {
     "name": "stdin",
     "output_type": "stream",
     "text": [
      "Enter your choice (1-6):  6\n"
     ]
    },
    {
     "name": "stdout",
     "output_type": "stream",
     "text": [
      " Exiting program. Goodbye!\n"
     ]
    }
   ],
   "source": [
    "def add_student(record_set, name, grade):\n",
    "   \n",
    "    name = name.strip().title()\n",
    "    if not name:\n",
    "        return record_set, \" Name cannot be blank.\"\n",
    "    if not grade.isdigit():\n",
    "        return record_set, \" Grade must be numeric.\"\n",
    "    \n",
    "    grade = int(grade)\n",
    "    if grade < 0 or grade > 100:\n",
    "        return record_set, \" Grade must be between 0 and 100.\"\n",
    "    \n",
    "    # Check duplicates\n",
    "    for student in record_set:\n",
    "        if student[0] == name:\n",
    "            return record_set, f\" Student '{name}' already exists.\"\n",
    "    \n",
    "    record_set.add((name, grade))\n",
    "    return record_set, f\" Student '{name}' added successfully.\"\n",
    "\n",
    "\n",
    "def view_all_students(record_set):\n",
    "\n",
    "    return sorted(record_set, key=lambda x: x[0])\n",
    "\n",
    "\n",
    "def get_top_student(record_set):\n",
    "   \n",
    "    if not record_set:\n",
    "        return None\n",
    "    return max(record_set, key=lambda x: x[1])\n",
    "\n",
    "\n",
    "def filter_students(record_set, min_grade):\n",
    "   \n",
    "    return [student for student in record_set if student[1] >= min_grade]\n",
    "\n",
    "\n",
    "def class_report(record_set):\n",
    "   \n",
    "    if not record_set:\n",
    "        return {\"average\": 0, \"above_avg\": [], \"count\": 0}\n",
    "    \n",
    "    grades = [grade for _, grade in record_set]\n",
    "    avg = round(sum(grades) / len(grades), 2)\n",
    "    above_avg = [s for s in record_set if s[1] > avg]\n",
    "    \n",
    "    return {\n",
    "        \"average\": avg,\n",
    "        \"above_avg\": above_avg,\n",
    "        \"count\": len(record_set)\n",
    "    }\n",
    "\n",
    "def main():\n",
    "    student_records = set()\n",
    "    \n",
    "    while True:\n",
    "        print(\"\\n MENU\")\n",
    "        print(\"1. Add Student\")\n",
    "        print(\"2. View All Students\")\n",
    "        print(\"3. Get Top Student\")\n",
    "        print(\"4. Filter Students by Minimum Grade\")\n",
    "        print(\"5. View Class Report\")\n",
    "        print(\"6. Exit\")\n",
    "        \n",
    "        choice = input(\"Enter your choice (1-6): \").strip()\n",
    "        \n",
    "        if choice == \"1\":\n",
    "            entry = input(\"Enter student record (Name, Grade): \")\n",
    "            if \",\" not in entry:\n",
    "                print(\" Invalid format. Use: Name, Grade\")\n",
    "                continue\n",
    "            name, grade = entry.split(\",\", 1)\n",
    "            student_records, msg = add_student(student_records, name, grade)\n",
    "            print(msg)\n",
    "        \n",
    "        elif choice == \"2\":\n",
    "            students = view_all_students(student_records)\n",
    "            if students:\n",
    "                print(\" All Students:\")\n",
    "                for s in students:\n",
    "                    print(f\"- {s[0]}: {s[1]}\")\n",
    "            else:\n",
    "                print(\" No records found.\")\n",
    "        \n",
    "        elif choice == \"3\":\n",
    "            top = get_top_student(student_records)\n",
    "            if top:\n",
    "                print(f\" Top Student: {top[0]} with grade {top[1]}\")\n",
    "            else:\n",
    "                print(\" No records yet.\")\n",
    "        \n",
    "        elif choice == \"4\":\n",
    "            min_grade = input(\"Enter minimum grade: \")\n",
    "            if not min_grade.isdigit():\n",
    "                print(\" Invalid grade input.\")\n",
    "                continue\n",
    "            min_grade = int(min_grade)\n",
    "            filtered = filter_students(student_records, min_grade)\n",
    "            if filtered:\n",
    "                print(f\" Students with grade >= {min_grade}:\")\n",
    "                for s in filtered:\n",
    "                    print(f\"- {s[0]}: {s[1]}\")\n",
    "            else:\n",
    "                print(\" No students meet the criteria.\")\n",
    "        \n",
    "        elif choice == \"5\":\n",
    "            report = class_report(student_records)\n",
    "            print(f\"\\n CLASS REPORT\")\n",
    "            print(f\"- Average Score: {report['average']}\")\n",
    "            print(f\"- Total Students: {report['count']}\")\n",
    "            if report[\"above_avg\"]:\n",
    "                print(\"- Students above average:\")\n",
    "                for s in report[\"above_avg\"]:\n",
    "                    print(f\"  • {s[0]}: {s[1]}\")\n",
    "            else:\n",
    "                print(\"- No students above average yet.\")\n",
    "        \n",
    "        elif choice == \"6\":\n",
    "            print(\" Exiting program. Goodbye!\")\n",
    "            break\n",
    "        \n",
    "        else:\n",
    "            print(\" Invalid choice. Try again.\")\n",
    "\n",
    "\n",
    "if __name__ == \"__main__\":\n",
    "    main()"
   ]
  },
  {
   "cell_type": "code",
   "execution_count": null,
   "id": "4c03bb9a-071b-45d0-b28f-650db7054dbb",
   "metadata": {},
   "outputs": [],
   "source": []
  }
 ],
 "metadata": {
  "kernelspec": {
   "display_name": "Python 3 (ipykernel)",
   "language": "python",
   "name": "python3"
  },
  "language_info": {
   "codemirror_mode": {
    "name": "ipython",
    "version": 3
   },
   "file_extension": ".py",
   "mimetype": "text/x-python",
   "name": "python",
   "nbconvert_exporter": "python",
   "pygments_lexer": "ipython3",
   "version": "3.12.7"
  }
 },
 "nbformat": 4,
 "nbformat_minor": 5
}
